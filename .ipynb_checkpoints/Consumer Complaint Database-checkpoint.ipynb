{
 "cells": [
  {
   "cell_type": "markdown",
   "id": "5e7c7c2c",
   "metadata": {},
   "source": [
    "  \n",
    "  ### <center> Consumer Complaints Database \n",
    "  ### <center>                  Innocent Victor\n",
    "  ### <center> Colorado Technical University Online\n",
    "\n"
   ]
  },
  {
   "cell_type": "markdown",
   "id": "71f27b87",
   "metadata": {},
   "source": [
    "**Assignment Details**\n",
    "\n",
    "**You are a data analyst working for a nonprofit organization that reviews business. You have been tasked to provide a briefing on consumer complaints. Using this Web site, which has over 200,000 records, analyze the data, and provide insight regarding the following:**\n",
    "\n",
    "1. Which type of product had the most complaints ordered by state?\n",
    "2. How many complaints have been filed for each company?\n",
    "3. Summarize the responses for each company (i.e., 32 in progress, 67 closed, and 22 closed with explanation)."
   ]
  },
  {
   "cell_type": "code",
   "execution_count": 4,
   "id": "52736e33",
   "metadata": {},
   "outputs": [
    {
     "name": "stderr",
     "output_type": "stream",
     "text": [
      "C:\\Users\\Innoc\\AppData\\Local\\Temp\\ipykernel_13384\\4189389920.py:3: DtypeWarning: Columns (9) have mixed types. Specify dtype option on import or set low_memory=False.\n",
      "  df = pd.read_csv (r'C:\\Users\\Innoc\\OneDrive\\Documents\\Python\\Complains_data\\complaints.csv')\n"
     ]
    },
    {
     "data": {
      "text/html": [
       "<div>\n",
       "<style scoped>\n",
       "    .dataframe tbody tr th:only-of-type {\n",
       "        vertical-align: middle;\n",
       "    }\n",
       "\n",
       "    .dataframe tbody tr th {\n",
       "        vertical-align: top;\n",
       "    }\n",
       "\n",
       "    .dataframe thead th {\n",
       "        text-align: right;\n",
       "    }\n",
       "</style>\n",
       "<table border=\"1\" class=\"dataframe\">\n",
       "  <thead>\n",
       "    <tr style=\"text-align: right;\">\n",
       "      <th></th>\n",
       "      <th>Date received</th>\n",
       "      <th>Product</th>\n",
       "      <th>Sub-product</th>\n",
       "      <th>Issue</th>\n",
       "      <th>Sub-issue</th>\n",
       "      <th>Consumer complaint narrative</th>\n",
       "      <th>Company public response</th>\n",
       "      <th>Company</th>\n",
       "      <th>State</th>\n",
       "      <th>ZIP code</th>\n",
       "      <th>Tags</th>\n",
       "      <th>Consumer consent provided?</th>\n",
       "      <th>Submitted via</th>\n",
       "      <th>Date sent to company</th>\n",
       "      <th>Company response to consumer</th>\n",
       "      <th>Timely response?</th>\n",
       "      <th>Consumer disputed?</th>\n",
       "      <th>Complaint ID</th>\n",
       "    </tr>\n",
       "  </thead>\n",
       "  <tbody>\n",
       "    <tr>\n",
       "      <th>0</th>\n",
       "      <td>2022-04-17</td>\n",
       "      <td>Credit reporting, credit repair services, or o...</td>\n",
       "      <td>Credit reporting</td>\n",
       "      <td>Improper use of your report</td>\n",
       "      <td>Reporting company used your report improperly</td>\n",
       "      <td>NaN</td>\n",
       "      <td>Company has responded to the consumer and the ...</td>\n",
       "      <td>Experian Information Solutions Inc.</td>\n",
       "      <td>DE</td>\n",
       "      <td>19702.0</td>\n",
       "      <td>NaN</td>\n",
       "      <td>Consent not provided</td>\n",
       "      <td>Web</td>\n",
       "      <td>2022-04-17</td>\n",
       "      <td>Closed with non-monetary relief</td>\n",
       "      <td>Yes</td>\n",
       "      <td>NaN</td>\n",
       "      <td>5457569</td>\n",
       "    </tr>\n",
       "    <tr>\n",
       "      <th>1</th>\n",
       "      <td>2022-04-05</td>\n",
       "      <td>Credit reporting, credit repair services, or o...</td>\n",
       "      <td>Credit reporting</td>\n",
       "      <td>Problem with a credit reporting company's inve...</td>\n",
       "      <td>Their investigation did not fix an error on yo...</td>\n",
       "      <td>This consumer reporting agency as defined by l...</td>\n",
       "      <td>Company has responded to the consumer and the ...</td>\n",
       "      <td>Experian Information Solutions Inc.</td>\n",
       "      <td>IA</td>\n",
       "      <td>52807.0</td>\n",
       "      <td>NaN</td>\n",
       "      <td>Consent provided</td>\n",
       "      <td>Web</td>\n",
       "      <td>2022-04-05</td>\n",
       "      <td>Closed with non-monetary relief</td>\n",
       "      <td>Yes</td>\n",
       "      <td>NaN</td>\n",
       "      <td>5409756</td>\n",
       "    </tr>\n",
       "    <tr>\n",
       "      <th>2</th>\n",
       "      <td>2022-06-30</td>\n",
       "      <td>Credit reporting, credit repair services, or o...</td>\n",
       "      <td>Credit reporting</td>\n",
       "      <td>Incorrect information on your report</td>\n",
       "      <td>Personal information incorrect</td>\n",
       "      <td>NaN</td>\n",
       "      <td>NaN</td>\n",
       "      <td>EQUIFAX, INC.</td>\n",
       "      <td>GA</td>\n",
       "      <td>30012.0</td>\n",
       "      <td>NaN</td>\n",
       "      <td>NaN</td>\n",
       "      <td>Web</td>\n",
       "      <td>2022-06-30</td>\n",
       "      <td>In progress</td>\n",
       "      <td>Yes</td>\n",
       "      <td>NaN</td>\n",
       "      <td>5723295</td>\n",
       "    </tr>\n",
       "    <tr>\n",
       "      <th>3</th>\n",
       "      <td>2022-05-16</td>\n",
       "      <td>Credit reporting, credit repair services, or o...</td>\n",
       "      <td>Credit reporting</td>\n",
       "      <td>Problem with a credit reporting company's inve...</td>\n",
       "      <td>Difficulty submitting a dispute or getting inf...</td>\n",
       "      <td>Bank of america is a very reputable bank and h...</td>\n",
       "      <td>Company has responded to the consumer and the ...</td>\n",
       "      <td>BANK OF AMERICA, NATIONAL ASSOCIATION</td>\n",
       "      <td>NY</td>\n",
       "      <td>11235.0</td>\n",
       "      <td>NaN</td>\n",
       "      <td>Consent provided</td>\n",
       "      <td>Web</td>\n",
       "      <td>2022-05-16</td>\n",
       "      <td>Closed with explanation</td>\n",
       "      <td>Yes</td>\n",
       "      <td>NaN</td>\n",
       "      <td>5565813</td>\n",
       "    </tr>\n",
       "    <tr>\n",
       "      <th>4</th>\n",
       "      <td>2022-04-17</td>\n",
       "      <td>Credit reporting, credit repair services, or o...</td>\n",
       "      <td>Credit reporting</td>\n",
       "      <td>Improper use of your report</td>\n",
       "      <td>Reporting company used your report improperly</td>\n",
       "      <td>NaN</td>\n",
       "      <td>Company has responded to the consumer and the ...</td>\n",
       "      <td>Experian Information Solutions Inc.</td>\n",
       "      <td>NC</td>\n",
       "      <td>28150.0</td>\n",
       "      <td>NaN</td>\n",
       "      <td>Consent not provided</td>\n",
       "      <td>Web</td>\n",
       "      <td>2022-04-17</td>\n",
       "      <td>Closed with non-monetary relief</td>\n",
       "      <td>Yes</td>\n",
       "      <td>NaN</td>\n",
       "      <td>5457553</td>\n",
       "    </tr>\n",
       "  </tbody>\n",
       "</table>\n",
       "</div>"
      ],
      "text/plain": [
       "  Date received                                            Product  \\\n",
       "0    2022-04-17  Credit reporting, credit repair services, or o...   \n",
       "1    2022-04-05  Credit reporting, credit repair services, or o...   \n",
       "2    2022-06-30  Credit reporting, credit repair services, or o...   \n",
       "3    2022-05-16  Credit reporting, credit repair services, or o...   \n",
       "4    2022-04-17  Credit reporting, credit repair services, or o...   \n",
       "\n",
       "        Sub-product                                              Issue  \\\n",
       "0  Credit reporting                        Improper use of your report   \n",
       "1  Credit reporting  Problem with a credit reporting company's inve...   \n",
       "2  Credit reporting               Incorrect information on your report   \n",
       "3  Credit reporting  Problem with a credit reporting company's inve...   \n",
       "4  Credit reporting                        Improper use of your report   \n",
       "\n",
       "                                           Sub-issue  \\\n",
       "0      Reporting company used your report improperly   \n",
       "1  Their investigation did not fix an error on yo...   \n",
       "2                     Personal information incorrect   \n",
       "3  Difficulty submitting a dispute or getting inf...   \n",
       "4      Reporting company used your report improperly   \n",
       "\n",
       "                        Consumer complaint narrative  \\\n",
       "0                                                NaN   \n",
       "1  This consumer reporting agency as defined by l...   \n",
       "2                                                NaN   \n",
       "3  Bank of america is a very reputable bank and h...   \n",
       "4                                                NaN   \n",
       "\n",
       "                             Company public response  \\\n",
       "0  Company has responded to the consumer and the ...   \n",
       "1  Company has responded to the consumer and the ...   \n",
       "2                                                NaN   \n",
       "3  Company has responded to the consumer and the ...   \n",
       "4  Company has responded to the consumer and the ...   \n",
       "\n",
       "                                 Company State ZIP code Tags  \\\n",
       "0    Experian Information Solutions Inc.    DE  19702.0  NaN   \n",
       "1    Experian Information Solutions Inc.    IA  52807.0  NaN   \n",
       "2                          EQUIFAX, INC.    GA  30012.0  NaN   \n",
       "3  BANK OF AMERICA, NATIONAL ASSOCIATION    NY  11235.0  NaN   \n",
       "4    Experian Information Solutions Inc.    NC  28150.0  NaN   \n",
       "\n",
       "  Consumer consent provided? Submitted via Date sent to company  \\\n",
       "0       Consent not provided           Web           2022-04-17   \n",
       "1           Consent provided           Web           2022-04-05   \n",
       "2                        NaN           Web           2022-06-30   \n",
       "3           Consent provided           Web           2022-05-16   \n",
       "4       Consent not provided           Web           2022-04-17   \n",
       "\n",
       "      Company response to consumer Timely response? Consumer disputed?  \\\n",
       "0  Closed with non-monetary relief              Yes                NaN   \n",
       "1  Closed with non-monetary relief              Yes                NaN   \n",
       "2                      In progress              Yes                NaN   \n",
       "3          Closed with explanation              Yes                NaN   \n",
       "4  Closed with non-monetary relief              Yes                NaN   \n",
       "\n",
       "   Complaint ID  \n",
       "0       5457569  \n",
       "1       5409756  \n",
       "2       5723295  \n",
       "3       5565813  \n",
       "4       5457553  "
      ]
     },
     "execution_count": 4,
     "metadata": {},
     "output_type": "execute_result"
    }
   ],
   "source": [
    "import pandas as pd\n",
    "\n",
    "df = pd.read_csv (r'C:\\Users\\Innoc\\OneDrive\\Documents\\Python\\Complains_data\\complaints.csv')\n",
    "df.head(5)"
   ]
  },
  {
   "cell_type": "code",
   "execution_count": 5,
   "id": "7b6ad40e",
   "metadata": {},
   "outputs": [
    {
     "name": "stdout",
     "output_type": "stream",
     "text": [
      "Index(['Date received', 'Product', 'Sub-product', 'Issue', 'Sub-issue',\n",
      "       'Consumer complaint narrative', 'Company public response', 'Company',\n",
      "       'State', 'ZIP code', 'Tags', 'Consumer consent provided?',\n",
      "       'Submitted via', 'Date sent to company', 'Company response to consumer',\n",
      "       'Timely response?', 'Consumer disputed?', 'Complaint ID'],\n",
      "      dtype='object')\n"
     ]
    }
   ],
   "source": [
    "print(df.columns)"
   ]
  },
  {
   "cell_type": "code",
   "execution_count": 8,
   "id": "ad800765",
   "metadata": {},
   "outputs": [
    {
     "data": {
      "text/plain": [
       "False"
      ]
     },
     "execution_count": 8,
     "metadata": {},
     "output_type": "execute_result"
    }
   ],
   "source": [
    "df['Date received'].isnull().values.any()"
   ]
  },
  {
   "cell_type": "markdown",
   "id": "3f7751d7",
   "metadata": {},
   "source": [
    "### Count of Complaints by Product and State"
   ]
  },
  {
   "cell_type": "code",
   "execution_count": 22,
   "id": "75e41ce2",
   "metadata": {},
   "outputs": [],
   "source": [
    "df1 = df.groupby([\"Product\", \"State\"])['Date received'].count().sort_values(ascending=False)"
   ]
  },
  {
   "cell_type": "code",
   "execution_count": 23,
   "id": "c31f7cb4",
   "metadata": {},
   "outputs": [],
   "source": [
    "df1.to_csv(r'C:\\Users\\Innoc\\OneDrive\\Documents\\Python\\Complains_data\\count_product_state.csv')"
   ]
  },
  {
   "cell_type": "markdown",
   "id": "41579735",
   "metadata": {},
   "source": [
    "### Count of Complaints by Company"
   ]
  },
  {
   "cell_type": "code",
   "execution_count": 29,
   "id": "32bf6a27",
   "metadata": {},
   "outputs": [],
   "source": [
    "df1 = df.groupby([\"Company\"])['Date received'].count().sort_values(ascending=False)"
   ]
  },
  {
   "cell_type": "code",
   "execution_count": 30,
   "id": "2b70a2e9",
   "metadata": {},
   "outputs": [],
   "source": [
    "df1.to_csv(r'C:\\Users\\Innoc\\OneDrive\\Documents\\Python\\Complains_data\\count_company.csv')"
   ]
  },
  {
   "cell_type": "markdown",
   "id": "51a95240",
   "metadata": {},
   "source": [
    "### Count of Company response to consumer"
   ]
  },
  {
   "cell_type": "code",
   "execution_count": 36,
   "id": "9701cb4a",
   "metadata": {},
   "outputs": [],
   "source": [
    "df1 = df.groupby([\"Company\",\"Company response to consumer\"])['Date received'].count().sort_values(ascending=False)"
   ]
  },
  {
   "cell_type": "code",
   "execution_count": 37,
   "id": "4085338f",
   "metadata": {},
   "outputs": [],
   "source": [
    "df1.to_csv(r'C:\\Users\\Innoc\\OneDrive\\Documents\\Python\\Complains_data\\count_company_response.csv')"
   ]
  },
  {
   "cell_type": "code",
   "execution_count": null,
   "id": "74d323be",
   "metadata": {},
   "outputs": [],
   "source": []
  }
 ],
 "metadata": {
  "kernelspec": {
   "display_name": "Python 3 (ipykernel)",
   "language": "python",
   "name": "python3"
  },
  "language_info": {
   "codemirror_mode": {
    "name": "ipython",
    "version": 3
   },
   "file_extension": ".py",
   "mimetype": "text/x-python",
   "name": "python",
   "nbconvert_exporter": "python",
   "pygments_lexer": "ipython3",
   "version": "3.9.12"
  }
 },
 "nbformat": 4,
 "nbformat_minor": 5
}
